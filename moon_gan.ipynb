{
 "cells": [
  {
   "cell_type": "code",
   "execution_count": 1,
   "id": "f56919b1",
   "metadata": {
    "scrolled": false
   },
   "outputs": [],
   "source": [
    "import torch as t\n",
    "from torch import nn\n",
    "from torch.utils.data import Dataset, DataLoader\n",
    "from torch.optim import Adam\n",
    "import numpy as np\n",
    "import pickle\n",
    "from matplotlib import pyplot as plt\n",
    "import seaborn as sns\n",
    "import sys\n",
    "\n",
    "batch_size = 64\n",
    "latent_dim = 60  # Dimension of the latent space\n",
    "channels = 1  # Number of channels in the input data and generated images\n",
    "lr = 0.00008  #0.0001\n",
    "b1, b2 = 0.7, 0.999  # Beta parameters for Adam optimizer\n",
    "n_epochs = 80\n",
    "#n_ch = 128  # Number of channels in initial convolution layers\n",
    "#sample_interval = 100  # Save a generated image every sample_interval number of batches\n",
    "d_conv_channels = 4  # Number of channels in the Discriminators convlution operation\n",
    "board_size = (18, 11)\n",
    "\n",
    "drop_top_n = 4  # Exclude the problems with the top this many grades\n",
    "drop_bottom_n = 1  # Exclude the problems with the bottom this many grades"
   ]
  },
  {
   "cell_type": "code",
   "execution_count": 2,
   "id": "91181d0d",
   "metadata": {
    "scrolled": false
   },
   "outputs": [],
   "source": [
    "grade_dict = {'6A': 1, '6A+': 2, '6B': 3, '6B+': 4, '6C': 5, '6C+': 6, '7A': 7, '7A+': 8,\n",
    "              '7B': 9, '7B+': 10, '7C': 11, '7C+': 12, '8A': 13, '8A+': 14, '8B': 15, '8B+': 16}\n",
    "\n",
    "# Convert grade n from ints to 1D tensors with ones in the first n positions and zeros elsewhere (one-hot encoding).\n",
    "# Ex. 4 -> [1,1,1,1,0,0,0,0,0,...]\n",
    "# This allows for ordinal regression in the loss function\n",
    "# i.e. loss is greater for predictions further from the true grade\n",
    "grade_dict_vec = {}\n",
    "for grade in grade_dict:\n",
    "    vec = t.zeros(len(grade_dict) - drop_bottom_n - drop_top_n)\n",
    "    vec[0:grade_dict[grade]] = 1\n",
    "    grade_dict_vec[grade] = vec\n",
    "\n",
    "num_grades = len(list(grade_dict_vec.values())[0])"
   ]
  },
  {
   "cell_type": "code",
   "execution_count": 3,
   "id": "1bc17d75",
   "metadata": {
    "scrolled": false
   },
   "outputs": [],
   "source": [
    "problem_path = 'problems.pkl'\n",
    "\n",
    "class Data(Dataset):\n",
    "    def __init__(self):\n",
    "\n",
    "        with open('problems1.pkl', 'rb') as f:\n",
    "            data1 = pickle.load(f)\n",
    "\n",
    "        with open('problems2.pkl', 'rb') as f:\n",
    "            data2 = pickle.load(f)\n",
    "\n",
    "        data = {**data1, **data2}\n",
    "\n",
    "        self.names = data.keys()\n",
    "        self.grades, self.start_holds, self.mid_holds, self.end_holds, self.all_holds = [], [], [], [], []\n",
    "        for name in self.names:\n",
    "            problem = data[name]\n",
    "            if problem[0] in grade_dict.keys():\n",
    "                if grade_dict[problem[0]] in (max(grade_dict.values()) -\n",
    "                                              np.array(range(drop_top_n))):\n",
    "                    continue\n",
    "                if grade_dict[problem[0]] in range(1, drop_bottom_n + 1):\n",
    "                    continue\n",
    "                self.grades.append(problem[0])\n",
    "                self.start_holds.append(problem[1])\n",
    "                self.mid_holds.append(problem[2])\n",
    "                self.end_holds.append(problem[3])\n",
    "                self.all_holds.append(problem[4])\n",
    "\n",
    "        self.all_holds_split_channels = t.Tensor(\n",
    "            [[self.start_holds[i], self.mid_holds[i], self.end_holds[i]]\n",
    "             for i in range(len(self.start_holds))])\n",
    "\n",
    "        self.start_holds = t.Tensor(self.start_holds)\n",
    "        self.mid_holds = t.Tensor(self.mid_holds)\n",
    "        self.end_holds = t.Tensor(self.end_holds)\n",
    "        self.all_holds = t.Tensor(self.all_holds)\n",
    "\n",
    "        self.all_holds_neg_ends = self.mid_holds - self.start_holds - self.end_holds\n",
    "\n",
    "        self.grades_numeric = [grade_dict[grade] for grade in self.grades]\n",
    "        self.grades = [grade_dict_vec[grade] for grade in self.grades]\n",
    "\n",
    "        self.len = len(self.grades)\n",
    "\n",
    "    def __len__(self):\n",
    "        return self.len\n",
    "\n",
    "    def __getitem__(self, index):\n",
    "        return (self.all_holds[index], self.grades[index])"
   ]
  },
  {
   "cell_type": "code",
   "execution_count": 4,
   "id": "fe9c3203",
   "metadata": {
    "scrolled": false
   },
   "outputs": [],
   "source": [
    "class Generator(nn.Module):\n",
    "    # Takes as input a random tensor of size (batch_size, latent_dim) and sampled grades\n",
    "    def __init__(self):\n",
    "        super(Generator, self).__init__()\n",
    "\n",
    "        fc1_size = 99\n",
    "        fc2_size = np.prod(board_size)\n",
    "        conv_channels = 16\n",
    "\n",
    "        self.fc1 = nn.Sequential(nn.Linear(num_grades, latent_dim), nn.ReLU())\n",
    "\n",
    "        self.lb1 = nn.Sequential(\n",
    "            nn.BatchNorm1d(2*latent_dim),\n",
    "            nn.Linear(2*latent_dim, fc1_size),\n",
    "            nn.ReLU()\n",
    "        )\n",
    "        self.lb2 = nn.Sequential(\n",
    "            nn.BatchNorm1d(fc1_size),\n",
    "            nn.Linear(fc1_size, fc2_size),\n",
    "            nn.ReLU()\n",
    "        )\n",
    "        self.cb1 = nn.Sequential(\n",
    "            nn.Conv2d(in_channels=1, out_channels=conv_channels,\n",
    "                      kernel_size=5, padding=2),\n",
    "            nn.BatchNorm2d(conv_channels),\n",
    "            nn.ReLU(),\n",
    "            # nn.Dropout(0.5)\n",
    "        )\n",
    "        self.cb2 = nn.Sequential(\n",
    "            nn.Conv2d(in_channels=conv_channels,\n",
    "                      out_channels=1, kernel_size=5, padding=2),\n",
    "            nn.Sigmoid()\n",
    "        )\n",
    "\n",
    "    def forward(self, z):\n",
    "        z, grade = z\n",
    "        emb = self.fc1(grade)\n",
    "\n",
    "        # Concatenate grade and noise (z)\n",
    "        gen = t.cat([z, emb], 1)\n",
    "\n",
    "        # Run the linear blocks\n",
    "        gen = self.lb1(gen)\n",
    "        gen = self.lb2(gen)\n",
    "\n",
    "        # [batch_size, 18*11] -> [batch_size, 1, 18, 11]\n",
    "        gen = gen.view(-1, 1, 18, 11)\n",
    "\n",
    "        # Run the convolutional blocks\n",
    "        gen = self.cb1(gen)\n",
    "        return self.cb2(gen)"
   ]
  },
  {
   "cell_type": "code",
   "execution_count": 5,
   "id": "48b46eb1",
   "metadata": {
    "scrolled": false
   },
   "outputs": [],
   "source": [
    "class Discriminator(nn.Module):\n",
    "    # Takes as input a data image or image generated by Generator\n",
    "    def __init__(self):\n",
    "        super(Discriminator, self).__init__()\n",
    "\n",
    "        self.conv_layer = nn.Conv2d(in_channels=1, out_channels=d_conv_channels, kernel_size=(\n",
    "            11, 7), padding=(5, 3), stride=1)  # Convolution with 4 filters of size 11x7\n",
    "        # Convolution with 1 filter of size 1 to feed info directly to next layer.  Bias set to false so that non-holds are set to zero\n",
    "        self.bypass_layer = nn.Conv2d(\n",
    "            in_channels=1, out_channels=1, kernel_size=1, stride=1, bias=False)\n",
    "\n",
    "        # First fc layer with 5x18x11 neurons -> 50 neurons\n",
    "        self.fc1 = nn.Sequential(\n",
    "            nn.Linear((d_conv_channels + 1) * np.prod(board_size), 50), nn.Sigmoid())\n",
    "        # Dropout layer to reduce overtraining\n",
    "        self.dropout = nn.Dropout(p=0.5)\n",
    "        self.fc_grade = nn.Sequential(\n",
    "            nn.Linear(50, num_grades), nn.Sigmoid())  # Second fc layer\n",
    "        self.fc_rf = nn.Sequential(nn.Linear(50, 1), nn.Sigmoid())\n",
    "\n",
    "#         self.conv_layer = nn.Conv2d(in_channels=3, out_channels=d_conv_channels, kernel_size=(11, 7), padding=(5, 3), stride=1)  # Convolution with 4 filters of size 11x7\n",
    "#         self.bypass_layer = nn.Conv2d(in_channels=3, out_channels=3, kernel_size=1, stride=1, bias=False)  # Convolution with 1 filter of size 1 to feed info directly to next layer.  Bias set to false so that non-holds are set to zero\n",
    "\n",
    "#         self.fc1 = nn.Sequential(nn.Linear((d_conv_channels + 3) * np.prod(board_size), 50), nn.Sigmoid())  # First fc layer with 5x18x11 neurons -> 50 neurons\n",
    "#         self.dropout = nn.Dropout(p=0.5)  # Dropout layer to reduce overtraining\n",
    "#         self.fc_grade = nn.Sequential(nn.Linear(50, num_grades), nn.Sigmoid())  # Second fc layer\n",
    "#         self.fc_rf = nn.Sequential(nn.Linear(50, 1), nn.Sigmoid())\n",
    "\n",
    "    def forward(self, problem):\n",
    "        #problem = (problem[:,0] + problem[:,1] + problem[:,2]).unsqueeze(1)\n",
    "\n",
    "        conv = self.conv_layer(problem)  # * problem\n",
    "        bypass = self.bypass_layer(problem)\n",
    "\n",
    "        conv = conv.view(conv.shape[0], -1)\n",
    "        bypass = bypass.view(bypass.shape[0], -1)\n",
    "        inter = t.cat((conv, bypass), 1)\n",
    "\n",
    "        inter = self.fc1(inter)\n",
    "        inter = self.dropout(inter)\n",
    "        grade = self.fc_grade(inter)\n",
    "        realfake = self.fc_rf(inter)\n",
    "        return [grade, realfake]"
   ]
  },
  {
   "cell_type": "code",
   "execution_count": 6,
   "id": "c18e2a87",
   "metadata": {
    "scrolled": false
   },
   "outputs": [],
   "source": [
    "def generate_noise(name=None, size=batch_size, std=1, mean=0):\n",
    "    if name in ['rand', 'random']:\n",
    "        return t.rand((size, latent_dim))\n",
    "    return t.normal(mean=mean, std=std, size=(size, latent_dim))"
   ]
  },
  {
   "cell_type": "code",
   "execution_count": 7,
   "id": "0dbfa66f",
   "metadata": {},
   "outputs": [],
   "source": [
    "if __name__ != '__main__':\n",
    "    sys.exit()"
   ]
  },
  {
   "cell_type": "code",
   "execution_count": 8,
   "id": "96a4b9c5",
   "metadata": {
    "scrolled": false
   },
   "outputs": [],
   "source": [
    "def ordinal_regression_loss(prediction, target):\n",
    "    return t.pow(nn.MSELoss(reduction='none')(prediction, target).sum(axis=1), 2).mean()"
   ]
  },
  {
   "cell_type": "code",
   "execution_count": 9,
   "id": "6d3db836",
   "metadata": {
    "scrolled": false
   },
   "outputs": [],
   "source": [
    "dataset = Data()\n",
    "\n",
    "dataloader = DataLoader(dataset, batch_size=batch_size, shuffle=True)\n",
    "\n",
    "# Loss function\n",
    "adversarial_loss = nn.BCELoss()\n",
    "\n",
    "G = Generator()\n",
    "D = Discriminator()\n",
    "\n",
    "# Optimizers\n",
    "optimizer_G = Adam(G.parameters(), lr=lr, betas=(b1, b2))\n",
    "optimizer_D = Adam(D.parameters(), lr=lr, betas=(b1, b2))"
   ]
  },
  {
   "cell_type": "code",
   "execution_count": 10,
   "id": "b71586bf",
   "metadata": {
    "scrolled": false
   },
   "outputs": [],
   "source": [
    "bins = np.array(range(min(dataset.grades_numeric),\n",
    "                max(dataset.grades_numeric) + 2)) - 0.5\n",
    "hist, _ = np.histogram(dataset.grades_numeric, bins=bins)\n",
    "probabilities = hist/sum(hist)\n",
    "\n",
    "\n",
    "def generate_grades(size=batch_size):\n",
    "    grades = []\n",
    "    for _ in range(size):\n",
    "        vec = np.zeros(num_grades)\n",
    "        grade = np.random.choice(np.arange(1, num_grades + 1), p=probabilities)\n",
    "        vec[:grade] = 1\n",
    "        grades.append(vec)\n",
    "    return t.Tensor(grades)"
   ]
  },
  {
   "cell_type": "code",
   "execution_count": 11,
   "id": "4189fd66",
   "metadata": {
    "scrolled": false
   },
   "outputs": [
    {
     "data": {
      "image/png": "[encoded data removed]",
      "text/plain": [
       "<Figure size 432x288 with 1 Axes>"
      ]
     },
     "metadata": {
      "needs_background": "light"
     },
     "output_type": "display_data"
    },
    {
     "name": "stdout",
     "output_type": "stream",
     "text": [
      "[7170 3140 3831 2307 3439 3133 2001  847  926  625  237]\n"
     ]
    },
    {
     "data": {
      "text/plain": [
       "<Figure size 432x288 with 0 Axes>"
      ]
     },
     "metadata": {},
     "output_type": "display_data"
    }
   ],
   "source": [
    "ret = sns.histplot(dataset.grades_numeric, bins=bins)\n",
    "plt.xlabel('Grade')\n",
    "plt.xticks(bins - 0.5)\n",
    "plt.title('Distribution of grades in dataset')\n",
    "\n",
    "hist, _ = np.histogram(dataset.grades_numeric, bins=bins)\n",
    "sns.scatterplot(x=bins[:-1] + 0.5, y=hist, color='red')\n",
    "\n",
    "# plt.yscale('log')\n",
    "plt.show()\n",
    "plt.clf()\n",
    "\n",
    "print(hist)"
   ]
  },
  {
   "cell_type": "code",
   "execution_count": 12,
   "id": "cbc33de7",
   "metadata": {
    "scrolled": true
   },
   "outputs": [
    {
     "ename": "KeyboardInterrupt",
     "evalue": "",
     "output_type": "error",
     "traceback": [
      "\u001b[0;31m---------------------------------------------------------------------------\u001b[0m",
      "\u001b[0;31mKeyboardInterrupt\u001b[0m                         Traceback (most recent call last)",
      "\u001b[0;32m/var/folders/_c/_nvtfkv15852mprwd5wgx0nw0000gn/T/ipykernel_2580/667383839.py\u001b[0m in \u001b[0;36m<module>\u001b[0;34m\u001b[0m\n\u001b[1;32m     54\u001b[0m \u001b[0;34m\u001b[0m\u001b[0m\n\u001b[1;32m     55\u001b[0m         \u001b[0;31m# Generate sample problems\u001b[0m\u001b[0;34m\u001b[0m\u001b[0;34m\u001b[0m\u001b[0;34m\u001b[0m\u001b[0m\n\u001b[0;32m---> 56\u001b[0;31m         \u001b[0mgen_problems\u001b[0m \u001b[0;34m=\u001b[0m \u001b[0mG\u001b[0m\u001b[0;34m(\u001b[0m\u001b[0;34m[\u001b[0m\u001b[0mnoise\u001b[0m\u001b[0;34m,\u001b[0m \u001b[0msampled_grades\u001b[0m\u001b[0;34m]\u001b[0m\u001b[0;34m)\u001b[0m\u001b[0;34m\u001b[0m\u001b[0;34m\u001b[0m\u001b[0m\n\u001b[0m\u001b[1;32m     57\u001b[0m \u001b[0;34m\u001b[0m\u001b[0m\n\u001b[1;32m     58\u001b[0m         \u001b[0;31m# Loss measures generator's ability to fool the discriminator\u001b[0m\u001b[0;34m\u001b[0m\u001b[0;34m\u001b[0m\u001b[0;34m\u001b[0m\u001b[0m\n",
      "\u001b[0;32m/Library/Frameworks/Python.framework/Versions/3.9/lib/python3.9/site-packages/torch/nn/modules/module.py\u001b[0m in \u001b[0;36m_call_impl\u001b[0;34m(self, *input, **kwargs)\u001b[0m\n\u001b[1;32m   1049\u001b[0m         if not (self._backward_hooks or self._forward_hooks or self._forward_pre_hooks or _global_backward_hooks\n\u001b[1;32m   1050\u001b[0m                 or _global_forward_hooks or _global_forward_pre_hooks):\n\u001b[0;32m-> 1051\u001b[0;31m             \u001b[0;32mreturn\u001b[0m \u001b[0mforward_call\u001b[0m\u001b[0;34m(\u001b[0m\u001b[0;34m*\u001b[0m\u001b[0minput\u001b[0m\u001b[0;34m,\u001b[0m \u001b[0;34m**\u001b[0m\u001b[0mkwargs\u001b[0m\u001b[0;34m)\u001b[0m\u001b[0;34m\u001b[0m\u001b[0;34m\u001b[0m\u001b[0m\n\u001b[0m\u001b[1;32m   1052\u001b[0m         \u001b[0;31m# Do not call functions when jit is used\u001b[0m\u001b[0;34m\u001b[0m\u001b[0;34m\u001b[0m\u001b[0;34m\u001b[0m\u001b[0m\n\u001b[1;32m   1053\u001b[0m         \u001b[0mfull_backward_hooks\u001b[0m\u001b[0;34m,\u001b[0m \u001b[0mnon_full_backward_hooks\u001b[0m \u001b[0;34m=\u001b[0m \u001b[0;34m[\u001b[0m\u001b[0;34m]\u001b[0m\u001b[0;34m,\u001b[0m \u001b[0;34m[\u001b[0m\u001b[0;34m]\u001b[0m\u001b[0;34m\u001b[0m\u001b[0;34m\u001b[0m\u001b[0m\n",
      "\u001b[0;32m/var/folders/_c/_nvtfkv15852mprwd5wgx0nw0000gn/T/ipykernel_2580/1529462740.py\u001b[0m in \u001b[0;36mforward\u001b[0;34m(self, z)\u001b[0m\n\u001b[1;32m     49\u001b[0m         \u001b[0;31m# Run the convolutional blocks\u001b[0m\u001b[0;34m\u001b[0m\u001b[0;34m\u001b[0m\u001b[0;34m\u001b[0m\u001b[0m\n\u001b[1;32m     50\u001b[0m         \u001b[0mgen\u001b[0m \u001b[0;34m=\u001b[0m \u001b[0mself\u001b[0m\u001b[0;34m.\u001b[0m\u001b[0mcb1\u001b[0m\u001b[0;34m(\u001b[0m\u001b[0mgen\u001b[0m\u001b[0;34m)\u001b[0m\u001b[0;34m\u001b[0m\u001b[0;34m\u001b[0m\u001b[0m\n\u001b[0;32m---> 51\u001b[0;31m         \u001b[0;32mreturn\u001b[0m \u001b[0mself\u001b[0m\u001b[0;34m.\u001b[0m\u001b[0mcb2\u001b[0m\u001b[0;34m(\u001b[0m\u001b[0mgen\u001b[0m\u001b[0;34m)\u001b[0m\u001b[0;34m\u001b[0m\u001b[0;34m\u001b[0m\u001b[0m\n\u001b[0m",
      "\u001b[0;32m/Library/Frameworks/Python.framework/Versions/3.9/lib/python3.9/site-packages/torch/nn/modules/module.py\u001b[0m in \u001b[0;36m_call_impl\u001b[0;34m(self, *input, **kwargs)\u001b[0m\n\u001b[1;32m   1049\u001b[0m         if not (self._backward_hooks or self._forward_hooks or self._forward_pre_hooks or _global_backward_hooks\n\u001b[1;32m   1050\u001b[0m                 or _global_forward_hooks or _global_forward_pre_hooks):\n\u001b[0;32m-> 1051\u001b[0;31m             \u001b[0;32mreturn\u001b[0m \u001b[0mforward_call\u001b[0m\u001b[0;34m(\u001b[0m\u001b[0;34m*\u001b[0m\u001b[0minput\u001b[0m\u001b[0;34m,\u001b[0m \u001b[0;34m**\u001b[0m\u001b[0mkwargs\u001b[0m\u001b[0;34m)\u001b[0m\u001b[0;34m\u001b[0m\u001b[0;34m\u001b[0m\u001b[0m\n\u001b[0m\u001b[1;32m   1052\u001b[0m         \u001b[0;31m# Do not call functions when jit is used\u001b[0m\u001b[0;34m\u001b[0m\u001b[0;34m\u001b[0m\u001b[0;34m\u001b[0m\u001b[0m\n\u001b[1;32m   1053\u001b[0m         \u001b[0mfull_backward_hooks\u001b[0m\u001b[0;34m,\u001b[0m \u001b[0mnon_full_backward_hooks\u001b[0m \u001b[0;34m=\u001b[0m \u001b[0;34m[\u001b[0m\u001b[0;34m]\u001b[0m\u001b[0;34m,\u001b[0m \u001b[0;34m[\u001b[0m\u001b[0;34m]\u001b[0m\u001b[0;34m\u001b[0m\u001b[0;34m\u001b[0m\u001b[0m\n",
      "\u001b[0;32m/Library/Frameworks/Python.framework/Versions/3.9/lib/python3.9/site-packages/torch/nn/modules/container.py\u001b[0m in \u001b[0;36mforward\u001b[0;34m(self, input)\u001b[0m\n\u001b[1;32m    137\u001b[0m     \u001b[0;32mdef\u001b[0m \u001b[0mforward\u001b[0m\u001b[0;34m(\u001b[0m\u001b[0mself\u001b[0m\u001b[0;34m,\u001b[0m \u001b[0minput\u001b[0m\u001b[0;34m)\u001b[0m\u001b[0;34m:\u001b[0m\u001b[0;34m\u001b[0m\u001b[0;34m\u001b[0m\u001b[0m\n\u001b[1;32m    138\u001b[0m         \u001b[0;32mfor\u001b[0m \u001b[0mmodule\u001b[0m \u001b[0;32min\u001b[0m \u001b[0mself\u001b[0m\u001b[0;34m:\u001b[0m\u001b[0;34m\u001b[0m\u001b[0;34m\u001b[0m\u001b[0m\n\u001b[0;32m--> 139\u001b[0;31m             \u001b[0minput\u001b[0m \u001b[0;34m=\u001b[0m \u001b[0mmodule\u001b[0m\u001b[0;34m(\u001b[0m\u001b[0minput\u001b[0m\u001b[0;34m)\u001b[0m\u001b[0;34m\u001b[0m\u001b[0;34m\u001b[0m\u001b[0m\n\u001b[0m\u001b[1;32m    140\u001b[0m         \u001b[0;32mreturn\u001b[0m \u001b[0minput\u001b[0m\u001b[0;34m\u001b[0m\u001b[0;34m\u001b[0m\u001b[0m\n\u001b[1;32m    141\u001b[0m \u001b[0;34m\u001b[0m\u001b[0m\n",
      "\u001b[0;32m/Library/Frameworks/Python.framework/Versions/3.9/lib/python3.9/site-packages/torch/nn/modules/module.py\u001b[0m in \u001b[0;36m_call_impl\u001b[0;34m(self, *input, **kwargs)\u001b[0m\n\u001b[1;32m   1049\u001b[0m         if not (self._backward_hooks or self._forward_hooks or self._forward_pre_hooks or _global_backward_hooks\n\u001b[1;32m   1050\u001b[0m                 or _global_forward_hooks or _global_forward_pre_hooks):\n\u001b[0;32m-> 1051\u001b[0;31m             \u001b[0;32mreturn\u001b[0m \u001b[0mforward_call\u001b[0m\u001b[0;34m(\u001b[0m\u001b[0;34m*\u001b[0m\u001b[0minput\u001b[0m\u001b[0;34m,\u001b[0m \u001b[0;34m**\u001b[0m\u001b[0mkwargs\u001b[0m\u001b[0;34m)\u001b[0m\u001b[0;34m\u001b[0m\u001b[0;34m\u001b[0m\u001b[0m\n\u001b[0m\u001b[1;32m   1052\u001b[0m         \u001b[0;31m# Do not call functions when jit is used\u001b[0m\u001b[0;34m\u001b[0m\u001b[0;34m\u001b[0m\u001b[0;34m\u001b[0m\u001b[0m\n\u001b[1;32m   1053\u001b[0m         \u001b[0mfull_backward_hooks\u001b[0m\u001b[0;34m,\u001b[0m \u001b[0mnon_full_backward_hooks\u001b[0m \u001b[0;34m=\u001b[0m \u001b[0;34m[\u001b[0m\u001b[0;34m]\u001b[0m\u001b[0;34m,\u001b[0m \u001b[0;34m[\u001b[0m\u001b[0;34m]\u001b[0m\u001b[0;34m\u001b[0m\u001b[0;34m\u001b[0m\u001b[0m\n",
      "\u001b[0;32m/Library/Frameworks/Python.framework/Versions/3.9/lib/python3.9/site-packages/torch/nn/modules/conv.py\u001b[0m in \u001b[0;36mforward\u001b[0;34m(self, input)\u001b[0m\n\u001b[1;32m    441\u001b[0m \u001b[0;34m\u001b[0m\u001b[0m\n\u001b[1;32m    442\u001b[0m     \u001b[0;32mdef\u001b[0m \u001b[0mforward\u001b[0m\u001b[0;34m(\u001b[0m\u001b[0mself\u001b[0m\u001b[0;34m,\u001b[0m \u001b[0minput\u001b[0m\u001b[0;34m:\u001b[0m \u001b[0mTensor\u001b[0m\u001b[0;34m)\u001b[0m \u001b[0;34m->\u001b[0m \u001b[0mTensor\u001b[0m\u001b[0;34m:\u001b[0m\u001b[0;34m\u001b[0m\u001b[0;34m\u001b[0m\u001b[0m\n\u001b[0;32m--> 443\u001b[0;31m         \u001b[0;32mreturn\u001b[0m \u001b[0mself\u001b[0m\u001b[0;34m.\u001b[0m\u001b[0m_conv_forward\u001b[0m\u001b[0;34m(\u001b[0m\u001b[0minput\u001b[0m\u001b[0;34m,\u001b[0m \u001b[0mself\u001b[0m\u001b[0;34m.\u001b[0m\u001b[0mweight\u001b[0m\u001b[0;34m,\u001b[0m \u001b[0mself\u001b[0m\u001b[0;34m.\u001b[0m\u001b[0mbias\u001b[0m\u001b[0;34m)\u001b[0m\u001b[0;34m\u001b[0m\u001b[0;34m\u001b[0m\u001b[0m\n\u001b[0m\u001b[1;32m    444\u001b[0m \u001b[0;34m\u001b[0m\u001b[0m\n\u001b[1;32m    445\u001b[0m \u001b[0;32mclass\u001b[0m \u001b[0mConv3d\u001b[0m\u001b[0;34m(\u001b[0m\u001b[0m_ConvNd\u001b[0m\u001b[0;34m)\u001b[0m\u001b[0;34m:\u001b[0m\u001b[0;34m\u001b[0m\u001b[0;34m\u001b[0m\u001b[0m\n",
      "\u001b[0;32m/Library/Frameworks/Python.framework/Versions/3.9/lib/python3.9/site-packages/torch/nn/modules/conv.py\u001b[0m in \u001b[0;36m_conv_forward\u001b[0;34m(self, input, weight, bias)\u001b[0m\n\u001b[1;32m    437\u001b[0m                             \u001b[0mweight\u001b[0m\u001b[0;34m,\u001b[0m \u001b[0mbias\u001b[0m\u001b[0;34m,\u001b[0m \u001b[0mself\u001b[0m\u001b[0;34m.\u001b[0m\u001b[0mstride\u001b[0m\u001b[0;34m,\u001b[0m\u001b[0;34m\u001b[0m\u001b[0;34m\u001b[0m\u001b[0m\n\u001b[1;32m    438\u001b[0m                             _pair(0), self.dilation, self.groups)\n\u001b[0;32m--> 439\u001b[0;31m         return F.conv2d(input, weight, bias, self.stride,\n\u001b[0m\u001b[1;32m    440\u001b[0m                         self.padding, self.dilation, self.groups)\n\u001b[1;32m    441\u001b[0m \u001b[0;34m\u001b[0m\u001b[0m\n",
      "\u001b[0;31mKeyboardInterrupt\u001b[0m: "
     ]
    }
   ],
   "source": [
    "loss_factor = 1\n",
    "n_batches = len(dataloader)\n",
    "\n",
    "for epoch in range(n_epochs):\n",
    "    for i, data in enumerate(dataloader):\n",
    "\n",
    "        # --------------------\n",
    "        # Train Discriminator\n",
    "        # --------------------\n",
    "\n",
    "        # Generate noise and labels to input into Generator\n",
    "        noise = generate_noise()\n",
    "        sampled_grades = generate_grades()\n",
    "\n",
    "        # Run the Generator to generate problems\n",
    "        gen_problems = G([noise, sampled_grades])\n",
    "\n",
    "        # Get some real problems and their associated grades\n",
    "        problems, grades = data\n",
    "        problems = problems.unsqueeze(1)\n",
    "\n",
    "        # Concatenate real problems and generated problems to run through the Discriminator\n",
    "        all_problems = t.cat((problems, gen_problems.detach()))\n",
    "        all_grades = t.cat((grades, sampled_grades))\n",
    "        truth_values = t.Tensor([1] * len(grades) + [0]\n",
    "                                * len(sampled_grades)).unsqueeze(1)\n",
    "\n",
    "        optimizer_D.zero_grad()\n",
    "\n",
    "        # Run the Discriminator to get its predictions\n",
    "        grade_prediction, realfake = D(all_problems)\n",
    "\n",
    "        # Compute the loss of the Discriminator\n",
    "        D_loss_grade = ordinal_regression_loss(\n",
    "            grade_prediction, all_grades)\n",
    "        D_loss_realfake = adversarial_loss(realfake, truth_values)\n",
    "\n",
    "        D_loss = D_loss_grade + loss_factor * D_loss_realfake\n",
    "\n",
    "        # Train the Discriminator\n",
    "        D_loss.backward()\n",
    "        optimizer_D.step()\n",
    "\n",
    "        # ---------------\n",
    "        # Train Generator\n",
    "        # ---------------\n",
    "\n",
    "        # Generate noise and labels to input into Generator\n",
    "        # Train with twice as much data so that G and D train on the same number of problems\n",
    "        noise = generate_noise(size=2*batch_size)\n",
    "        sampled_grades = generate_grades(2*batch_size)\n",
    "\n",
    "        optimizer_G.zero_grad()\n",
    "\n",
    "        # Generate sample problems\n",
    "        gen_problems = G([noise, sampled_grades])\n",
    "\n",
    "        # Loss measures generator's ability to fool the discriminator\n",
    "        grade_prediction, realfake = D(gen_problems)\n",
    "        G_loss_grade = ordinal_regression_loss(\n",
    "            grade_prediction, sampled_grades)\n",
    "        G_loss_realfake = adversarial_loss(\n",
    "            realfake, t.ones_like(realfake))\n",
    "\n",
    "        G_loss = G_loss_grade + loss_factor * G_loss_realfake\n",
    "\n",
    "    #         gen_problems_binary = t.where(gen_problems > 0.5, 1, 0)\n",
    "    #         num_holds = t.sum(gen_problems_binary, (2,3))\n",
    "    #         unique, counts = t.unique(num_holds, return_counts=True)\n",
    "    #         G_loss += counts[0].item()/10\n",
    "\n",
    "        # Train the Generator\n",
    "        G_loss.backward()\n",
    "        optimizer_G.step()\n",
    "\n",
    "        # ----------------\n",
    "        # Log Progress\n",
    "        # ----------------\n",
    "\n",
    "        if (i+1) % (n_batches//8) == 0:\n",
    "            print(f'Epoch: {epoch+1}/{n_epochs}  Batch: {i+1}/{n_batches}  G loss: %.3f  D loss: %.3f' %\n",
    "                  (G_loss.item(), D_loss.item()))\n",
    "\n",
    "            #gen_problems = t.round(gen_problems)\n",
    "            gen_problems = t.where(gen_problems > 0.5, 1, 0)\n",
    "            index = np.random.choice(len(gen_problems))\n",
    "            print('Index: %d, Grade: %d\\n' % (index, t.sum(\n",
    "                sampled_grades[index]).item()), gen_problems[index])"
   ]
  },
  {
   "cell_type": "code",
   "execution_count": null,
   "id": "0b619835",
   "metadata": {
    "scrolled": false
   },
   "outputs": [],
   "source": [
    "t.save(G, './generator.pt')"
   ]
  }
 ],
 "metadata": {
  "kernelspec": {
   "display_name": "Python 3 (ipykernel)",
   "language": "python",
   "name": "python3"
  },
  "language_info": {
   "codemirror_mode": {
    "name": "ipython",
    "version": 3
   },
   "file_extension": ".py",
   "mimetype": "text/x-python",
   "name": "python",
   "nbconvert_exporter": "python",
   "pygments_lexer": "ipython3",
   "version": "3.9.1"
  }
 },
 "nbformat": 4,
 "nbformat_minor": 5
}
